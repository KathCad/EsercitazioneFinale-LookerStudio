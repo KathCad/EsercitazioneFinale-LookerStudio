{
 "cells": [
  {
   "cell_type": "code",
   "execution_count": 125,
   "id": "63ac88ba-a5d5-4009-ac5e-5595d3c32414",
   "metadata": {},
   "outputs": [],
   "source": [
    "import pandas as pd\n",
    "\n",
    "# Carica il file originale con tutti i partecipanti\n",
    "df_classifica = pd.read_excel(\"C:\\\\Users\\\\Katherine\\\\Documents\\\\GitHub\\\\EsercitazioneFinale-LookerStudio\\\\dati-classifica-sanremo-1951-2023.xlsx\")\n",
    "df_classifica.rename(columns={\"anno\": \"Anno\"}, inplace=True)\n",
    "\n",
    "# Filtra i finalisti che sono arrivati tra le prime 5 posizioni\n",
    "df_finalisti = df_classifica[df_classifica[\"Posizione\"].isin([1, 2, 3, 4, 5])].copy()\n",
    "\n",
    "# Liste indicative di nomi femminili e maschili (puoi aggiungerne altri se vuoi)\n",
    "nomi_donne = [\"Nilla\", \"Franca\", \"Tonina\", \"Luciana\", \"Nada\", \"Milva\", \"Gilda\", \"Iva\", \"Orietta\", \"Anna\", \n",
    "              \"Emanuela\", \"Angela\", \"Rosanna\", \"Valentina\", \"Laura\", \"Alice\", \"Loretta\", \"Tiziana\", \n",
    "              \"Donatella\", \"Dori\", \"Fiordaliso\", \"Gigliola\", \"Marcella\", \"Mia\", \"Gerardina\", \"Giorgia\", \n",
    "              \"Ivana\", \"Syria\", \"Silvia\", \"Annalisa\", \"Antonella\", \"Lisa\", \"Paola\", \"Mariella\", \"Irene\", \n",
    "              \"Elisa\", \"Alexia\", \"Linda\", \"Noemi\", \"Malika\", \"Emma\", \"Arisa\", \"Noemi\", \"Chiara\", \"Francesca\", \n",
    "              \"Fiorella\", \"Loredana\"]\n",
    "nomi_uomini = [\"Achille\", \"Oscar\", \"Gino\", \"Ugo\", \"Nicola\", \"Peppino\", \"Gianni\", \"Domenico\", \"Sandro\", \n",
    "               \"Paolo\", \"Umberto\", \"Santino\", \"Matia\", \"Rino\", \"Ciro\", \"Anselmo\", \"Mino\", \"Enzo\", \"Enrico\", \n",
    "               \"Toto\", \"Pupo\", \"Dario\", \"Luca\", \"Riccardo\", \"Drupi\", \"Giuseppe\", \"Christian\", \"Luis\", \"Eros\",\n",
    "               \"Renzo\", \"Fausto\", \"Massimo\", \"Jovanotti\", \"Renato\", \"Marco\", \"Pierangelo\", \"Cristiano\", \n",
    "               \"Aleandro\", \"Giorgio\", \"Michele\", \"Max\", \"Samuele\", \"Alex\", \"Sergio\", \"Mario\", \"Bungaro\", \n",
    "               \"Francesco\", \"Simone\", \"Povia\", \"Al\", \"Piero\", \"Daniele\", \"Mango\", \"Fabrizio\", \"Sal\", \"Valerio\", \n",
    "               \"Roberto\", \"Davide\", \"Raphael\", \"Nek\", \"Lorenzo\", \"Ermal\", \"Mahmood\", \"Ultimo\", \"Diodato\", \"Colapesce\", \n",
    "               \"Irama\", \"Sangiovanni\", \"Lazza\", \"Mr.\", \"Tananai\"]\n",
    "\n",
    "# Funzione per classificare direttamente l'interprete\n",
    "def classifica_tipo(interprete):\n",
    "    if \" e \" in interprete.lower() or \"&\" in interprete or \",\" in interprete or \"con\" in interprete or \"-\" in interprete:\n",
    "        return \"Gruppo/Altro\"\n",
    "    primo_nome = str(interprete).split()[0]\n",
    "    if primo_nome in nomi_donne:\n",
    "        return \"Solista Donna\"\n",
    "    elif primo_nome in nomi_uomini:\n",
    "        return \"Solista Uomo\"\n",
    "    else:\n",
    "        return \"Sconosciuto\"\n",
    "\n",
    "# Applichiamo direttamente la classificazione senza creare la colonna \"Nome\"\n",
    "df_finalisti[\"Tipo_Artista\"] = df_finalisti[\"Interprete\"].apply(classifica_tipo)\n",
    "\n",
    "# Esportiamo il file per l’analisi in Looker Studio\n",
    "df_finalisti.to_excel(\"sanremo_finalisti_top5_senza_nome.xlsx\", index=False)"
   ]
  },
  {
   "cell_type": "code",
   "execution_count": null,
   "id": "543044d1-04ae-4153-887c-2310169f6721",
   "metadata": {},
   "outputs": [],
   "source": []
  }
 ],
 "metadata": {
  "kernelspec": {
   "display_name": "Python [conda env:base] *",
   "language": "python",
   "name": "conda-base-py"
  },
  "language_info": {
   "codemirror_mode": {
    "name": "ipython",
    "version": 3
   },
   "file_extension": ".py",
   "mimetype": "text/x-python",
   "name": "python",
   "nbconvert_exporter": "python",
   "pygments_lexer": "ipython3",
   "version": "3.12.7"
  }
 },
 "nbformat": 4,
 "nbformat_minor": 5
}
